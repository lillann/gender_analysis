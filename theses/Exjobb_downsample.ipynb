{
 "cells": [
  {
   "cell_type": "markdown",
   "metadata": {},
   "source": [
    "##### Downsample (English and Swedish theses separately) to obtain an even gender distribution in each department. Restricts the included departments to the topics humanities, natural science, architecture and economy.\n",
    "##### Saves the downsampled datasets to \"df_english_downsampled.csv\" and \"df_swedish_downsampled.csv\""
   ]
  },
  {
   "cell_type": "code",
   "execution_count": 6,
   "metadata": {},
   "outputs": [],
   "source": [
    "import pandas as pd\n",
    "\n",
    "import json\n",
    "import pandas as pd\n",
    "\n",
    "info_file_gu = \"/Users/annl/Desktop/GenieProjekt/Exjobb/GU-metadata-210310.json\"\n",
    "info_file_ch = \"/Users/annl/Desktop/GenieProjekt/Exjobb/CTH-metadata-210310.json\"\n"
   ]
  },
  {
   "cell_type": "code",
   "execution_count": 7,
   "metadata": {},
   "outputs": [],
   "source": [
    "# Read metadata files into dataframes\n",
    "df_cth = pd.read_json(info_file_ch)\n",
    "df_gu  = pd.read_json(info_file_gu)"
   ]
  },
  {
   "cell_type": "code",
   "execution_count": 8,
   "metadata": {},
   "outputs": [],
   "source": [
    "# Create column for gender and filter out non-male/female \n",
    "genders_gu  = [val['gender'] for val in df_gu['inferred'].values]\n",
    "genders_cth = [val['gender'] for val in df_cth['inferred'].values]\n",
    "\n",
    "df_cth['gender_composition'] = genders_cth\n",
    "df_gu['gender_composition']  = genders_gu\n",
    "\n",
    "df_cth = df_cth[df_cth['gender_composition'].isin(['male','female'])]\n",
    "df_gu = df_gu[df_gu['gender_composition'].isin(['male','female'])]"
   ]
  },
  {
   "cell_type": "code",
   "execution_count": 10,
   "metadata": {},
   "outputs": [],
   "source": [
    "# Separate data by language\n",
    "languages_gu  = [val['language'] for val in df_gu['inferred'].values]\n",
    "languages_cth = [val['language'] for val in df_cth['inferred'].values]\n",
    "\n",
    "df_gu['language'] = languages_gu\n",
    "df_cth['language'] = languages_cth\n",
    "\n",
    "df_cth_swe = df_cth[df_cth['language'] == 'sv']\n",
    "df_cth_eng = df_cth[df_cth['language'] == 'en']\n",
    "\n",
    "df_gu_swe = df_gu[df_gu['language'] == 'sv']\n",
    "df_gu_eng = df_gu[df_gu['language'] == 'en']\n"
   ]
  },
  {
   "cell_type": "code",
   "execution_count": 23,
   "metadata": {},
   "outputs": [],
   "source": [
    "# Get the number of female/male theses in the given department and dataframe\n",
    "def get_sizes(df,dep) : \n",
    "    df_dep = df[df['department'] == dep]\n",
    "    [size_female,size_male] = [len(df_dep[df_dep['gender_composition'] == gender]) \n",
    "                                          for gender in ['female','male']] \n",
    "    return (size_female,size_male)"
   ]
  },
  {
   "cell_type": "code",
   "execution_count": 24,
   "metadata": {},
   "outputs": [
    {
     "name": "stderr",
     "output_type": "stream",
     "text": [
      "/Users/annl/.local/lib/python3.7/site-packages/ipykernel_launcher.py:13: UserWarning: Boolean Series key will be reindexed to match DataFrame index.\n",
      "  del sys.path[0]\n"
     ]
    }
   ],
   "source": [
    "\n",
    "# Randomly downsamples data by reducing the majority class\n",
    "# resulting in an equal number of male and female authors\n",
    "# for each department.\n",
    "\n",
    "def decide_fraction(df,dep) :\n",
    "    (a,b) = get_sizes(df,dep)\n",
    "    if a == 0 or b == 0 : return ('',1)    \n",
    "    elif a > b : return ('female',1  - (b / a))\n",
    "    else : return ('male', 1 - (a / b))\n",
    "    \n",
    "\n",
    "def drop_fraction(df,dep,gender,fraction) : \n",
    "    df2 = df.drop(df[df.department.eq(dep)][df.gender_composition.eq(gender)].sample(frac=fraction).index)\n",
    "    return df2\n",
    "\n",
    "def gender_equal(df) :\n",
    "    deps = df['department'].unique()\n",
    "    return gender_equal_deps(df,deps)\n",
    "    \n",
    "\n",
    "def gender_equal_deps(df,deps) :\n",
    "    if len(deps) == 0 : return df\n",
    "    else : \n",
    "       \n",
    "        (gen,frac) = decide_fraction(df,deps[0])\n",
    "        df_eq      = drop_fraction(df,deps[0],gen,frac)\n",
    "        if len(deps) == 1 : return df_eq\n",
    "        else : return gender_equal_deps(df_eq,deps[1:])\n",
    "\n",
    "df_equal_gu_swe  = gender_equal(df_gu_swe)\n",
    "df_equal_gu_eng  = gender_equal(df_gu_eng)\n",
    "df_equal_cth_swe = gender_equal(df_cth_swe)\n",
    "df_equal_cth_eng = gender_equal(df_cth_eng)"
   ]
  },
  {
   "cell_type": "code",
   "execution_count": 25,
   "metadata": {},
   "outputs": [
    {
     "name": "stdout",
     "output_type": "stream",
     "text": [
      "Gender counts CTH Swe\n",
      "male      638\n",
      "female    636\n",
      "Name: gender_composition, dtype: int64\n",
      "Gender counts GU Swe\n",
      "female    4205\n",
      "male      4082\n",
      "Name: gender_composition, dtype: int64\n",
      "Gender counts CTH Eng\n",
      "male      2428\n",
      "female    2427\n",
      "Name: gender_composition, dtype: int64\n",
      "Gender counts GU Eng\n",
      "female    2054\n",
      "male      2054\n",
      "Name: gender_composition, dtype: int64\n"
     ]
    }
   ],
   "source": [
    "print(\"Gender counts CTH Swe\")\n",
    "print(df_equal_cth_swe['gender_composition'].value_counts())\n",
    "print(\"Gender counts GU Swe\")\n",
    "print(df_equal_gu_swe['gender_composition'].value_counts())\n",
    "print(\"Gender counts CTH Eng\")\n",
    "print(df_equal_cth_eng['gender_composition'].value_counts())\n",
    "print(\"Gender counts GU Eng\")\n",
    "print(df_equal_gu_eng['gender_composition'].value_counts())"
   ]
  },
  {
   "cell_type": "code",
   "execution_count": null,
   "metadata": {},
   "outputs": [],
   "source": [
    "# Restrict to these departments\n",
    "\n",
    "humaniora      = ['Institutionen för filosofi, lingvistik och vetenskapsteori','Institutionen för litteratur, idéhistoria och religion','Institutionen för språk och litteraturer','Institutionen för svenska språket']\n",
    "arkitektur     = ['Institutionen för arkitektur och samhällsbyggnadsteknik']\n",
    "ekonomi        = ['Företagsekonomiska institutionen']\n",
    "naturvetenskap = ['Institutionen för biologi och bioteknik','Institutionen för fysik','Institutionen för kemi och kemiteknik','Institutionen för rymd- och geovetenskap']\n",
    "\n",
    "\n",
    "df_eng = pd.concat([df_equal_gu_eng[df_equal_gu_eng['department'].isin(humaniora+ekonomi)], \n",
    "                df_equal_cth_eng[df_equal_cth_eng['department'].isin(naturvetenskap + arkitektur) ]])\n",
    "\n",
    "df_swe = pd.concat([df_equal_gu_swe[df_equal_gu_swe['department'].isin(humaniora+ekonomi)], \n",
    "                df_equal_cth_swe[df_equal_cth_swe['department'].isin(naturvetenskap + arkitektur) ]])"
   ]
  },
  {
   "cell_type": "code",
   "execution_count": 19,
   "metadata": {},
   "outputs": [],
   "source": [
    "df_eng.to_csv(\"df_english_downsampled.csv\")"
   ]
  },
  {
   "cell_type": "code",
   "execution_count": 20,
   "metadata": {},
   "outputs": [],
   "source": [
    "df_swe.to_csv(\"df_swedish_downsampled.csv\")"
   ]
  }
 ],
 "metadata": {
  "kernelspec": {
   "display_name": "idp_kernel",
   "language": "python",
   "name": "idp_kernel"
  },
  "language_info": {
   "codemirror_mode": {
    "name": "ipython",
    "version": 3
   },
   "file_extension": ".py",
   "mimetype": "text/x-python",
   "name": "python",
   "nbconvert_exporter": "python",
   "pygments_lexer": "ipython3",
   "version": "3.7.9"
  }
 },
 "nbformat": 4,
 "nbformat_minor": 4
}
